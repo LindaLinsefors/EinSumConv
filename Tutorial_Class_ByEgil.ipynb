{
 "metadata": {
  "name": "",
  "signature": "sha256:eef558202e6cfe80aa338b7306af568c85e1d66a5212055941023982fdf4aa72"
 },
 "nbformat": 3,
 "nbformat_minor": 0,
 "worksheets": [
  {
   "cells": [
    {
     "cell_type": "code",
     "collapsed": false,
     "input": [
      "class A(object):\n",
      "    fie = 23\n",
      "    \n",
      "    def __init__(self, foo, bar):\n",
      "        self.foo = foo\n",
      "        self.bar = bar\n",
      "        \n",
      "    @classmethod\n",
      "    def abar(cls, foo):\n",
      "        print \"tjohej\"\n",
      "        print foo\n",
      "    \n",
      "    def setFie(self, fie):\n",
      "        self.fie = fie\n",
      "        \n",
      "    def getFooBar(self):\n",
      "        return self.foo + self.bar\n",
      "    def __getitem__(self, name):\n",
      "        return name + \",nananan\"\n",
      "    def __add__(self, other):\n",
      "        return 4711\n",
      "    def __radd__(self, other):\n",
      "        return 4712\n",
      "    def __unicode__(self):\n",
      "        return \"%s: %s, %s\" % (type(self).__name__, self.foo, self.bar)\n",
      "    def __str__(self):\n",
      "        return unicode(self).encode(\"utf-8\")\n",
      "    def __repr__(self):\n",
      "        return str(self)\n",
      "\n",
      "class X(object):\n",
      "    def nanana(self):\n",
      "        return \"hej\"\n",
      "    \n",
      "class B(A, X):\n",
      "    def getFooBar(self):\n",
      "        return A.getFooBar(self) + \"123\"\n",
      "    \n",
      "    \n",
      "a1=A(\"hej\", \"Hopp\")\n",
      "print \"getFooBar:\", a1.getFooBar()\n",
      "print \"5 + a1:\", 5 + a1\n",
      "print \"a1['tjohopp']:\", a1['tjohopp']\n",
      "print \"foo:\", a1.foo\n",
      "print\n",
      "\n",
      "b1 = B(\"xxx\", \"yyy\")\n",
      "print \"b1 + 2:\", b1 + 2\n",
      "print \"getFooBar:\", b1.getFooBar()\n",
      "print \"nanana:\", b1.nanana()"
     ],
     "language": "python",
     "metadata": {},
     "outputs": [
      {
       "output_type": "stream",
       "stream": "stdout",
       "text": [
        "getFooBar: hejHopp\n",
        "5 + a1: 4712\n",
        "a1['tjohopp']: tjohopp,nananan\n",
        "foo: hej\n",
        "\n",
        "b1 + 2: 4711\n",
        "getFooBar: xxxyyy123\n",
        "nanana: hej\n"
       ]
      }
     ],
     "prompt_number": 1
    },
    {
     "cell_type": "code",
     "collapsed": false,
     "input": [
      "a1=A(\"hej\", \"Hopp\")\n",
      "print a1.fie\n",
      "a2=a1\n",
      "a2.setFie(30)\n",
      "print a1.fie"
     ],
     "language": "python",
     "metadata": {},
     "outputs": [
      {
       "output_type": "stream",
       "stream": "stdout",
       "text": [
        "23\n",
        "30\n"
       ]
      }
     ],
     "prompt_number": 5
    },
    {
     "cell_type": "code",
     "collapsed": false,
     "input": [
      "a1=A(\"hej\", \"Hopp\")\n",
      "a1=A(\"hej\", \"Hopp\")\n",
      "a1==a2"
     ],
     "language": "python",
     "metadata": {},
     "outputs": [
      {
       "metadata": {},
       "output_type": "pyout",
       "prompt_number": 6,
       "text": [
        "False"
       ]
      }
     ],
     "prompt_number": 6
    },
    {
     "cell_type": "code",
     "collapsed": false,
     "input": [
      "a1=A(\"hej\", \"Hopp\")\n",
      "a1.fie"
     ],
     "language": "python",
     "metadata": {},
     "outputs": [
      {
       "ename": "TypeError",
       "evalue": "object() takes no parameters",
       "output_type": "pyerr",
       "traceback": [
        "\u001b[1;31m---------------------------------------------------------------------------\u001b[0m\n\u001b[1;31mTypeError\u001b[0m                                 Traceback (most recent call last)",
        "\u001b[1;32m<ipython-input-129-3185a9e3d040>\u001b[0m in \u001b[0;36m<module>\u001b[1;34m()\u001b[0m\n\u001b[1;32m----> 1\u001b[1;33m \u001b[0ma1\u001b[0m\u001b[1;33m=\u001b[0m\u001b[0mA\u001b[0m\u001b[1;33m(\u001b[0m\u001b[1;34m\"hej\"\u001b[0m\u001b[1;33m,\u001b[0m \u001b[1;34m\"Hopp\"\u001b[0m\u001b[1;33m)\u001b[0m\u001b[1;33m\u001b[0m\u001b[0m\n\u001b[0m\u001b[0;32m      2\u001b[0m \u001b[0ma1\u001b[0m\u001b[1;33m.\u001b[0m\u001b[0mfie\u001b[0m\u001b[1;33m\u001b[0m\u001b[0m\n",
        "\u001b[1;31mTypeError\u001b[0m: object() takes no parameters"
       ]
      }
     ],
     "prompt_number": 129
    },
    {
     "cell_type": "code",
     "collapsed": false,
     "input": [],
     "language": "python",
     "metadata": {},
     "outputs": []
    },
    {
     "cell_type": "code",
     "collapsed": false,
     "input": [
      "a2.foo='bl\u00e4'\n",
      "a1"
     ],
     "language": "python",
     "metadata": {},
     "outputs": [
      {
       "metadata": {},
       "output_type": "pyout",
       "prompt_number": 128,
       "text": [
        "<repr(<__main__.A at 0x7f1fa004be90>) failed: UnicodeDecodeError: 'ascii' codec can't decode byte 0xc3 in position 5: ordinal not in range(128)>"
       ]
      }
     ],
     "prompt_number": 128
    },
    {
     "cell_type": "code",
     "collapsed": false,
     "input": [
      "from sympy import *\n",
      "Function"
     ],
     "language": "python",
     "metadata": {},
     "outputs": [
      {
       "metadata": {},
       "output_type": "pyout",
       "prompt_number": 55,
       "text": [
        "sympy.core.function.Function"
       ]
      }
     ],
     "prompt_number": 55
    },
    {
     "cell_type": "code",
     "collapsed": false,
     "input": [
      "F=Function('F')\n",
      "type(F(1, 2))"
     ],
     "language": "python",
     "metadata": {},
     "outputs": [
      {
       "metadata": {},
       "output_type": "pyout",
       "prompt_number": 59,
       "text": [
        "F"
       ]
      }
     ],
     "prompt_number": 59
    },
    {
     "cell_type": "code",
     "collapsed": false,
     "input": [
      "class MyType(type):\n",
      "    def __init__(cls, name, bases, members):\n",
      "        \n",
      "        "
     ],
     "language": "python",
     "metadata": {},
     "outputs": [
      {
       "ename": "IndentationError",
       "evalue": "expected an indented block (<ipython-input-60-260b77e5ed5c>, line 3)",
       "output_type": "pyerr",
       "traceback": [
        "\u001b[1;36m  File \u001b[1;32m\"<ipython-input-60-260b77e5ed5c>\"\u001b[1;36m, line \u001b[1;32m3\u001b[0m\n\u001b[1;33m    \u001b[0m\n\u001b[1;37m    ^\u001b[0m\n\u001b[1;31mIndentationError\u001b[0m\u001b[1;31m:\u001b[0m expected an indented block\n"
       ]
      }
     ],
     "prompt_number": 60
    },
    {
     "cell_type": "code",
     "collapsed": false,
     "input": [
      "Function"
     ],
     "language": "python",
     "metadata": {},
     "outputs": [
      {
       "metadata": {},
       "output_type": "pyout",
       "prompt_number": 61,
       "text": [
        "sympy.core.function.Function"
       ]
      }
     ],
     "prompt_number": 61
    },
    {
     "cell_type": "code",
     "collapsed": false,
     "input": [
      "f=Function('f')"
     ],
     "language": "python",
     "metadata": {},
     "outputs": [],
     "prompt_number": 62
    },
    {
     "cell_type": "code",
     "collapsed": false,
     "input": [
      "type(f)"
     ],
     "language": "python",
     "metadata": {},
     "outputs": [
      {
       "metadata": {},
       "output_type": "pyout",
       "prompt_number": 63,
       "text": [
        "sympy.core.function.UndefinedFunction"
       ]
      }
     ],
     "prompt_number": 63
    },
    {
     "cell_type": "code",
     "collapsed": false,
     "input": [
      "Funktin.__init__('f')"
     ],
     "language": "python",
     "metadata": {},
     "outputs": [
      {
       "ename": "NameError",
       "evalue": "name 'Funktin' is not defined",
       "output_type": "pyerr",
       "traceback": [
        "\u001b[1;31m---------------------------------------------------------------------------\u001b[0m\n\u001b[1;31mNameError\u001b[0m                                 Traceback (most recent call last)",
        "\u001b[1;32m<ipython-input-65-a9dec9029b2a>\u001b[0m in \u001b[0;36m<module>\u001b[1;34m()\u001b[0m\n\u001b[1;32m----> 1\u001b[1;33m \u001b[0mFunktin\u001b[0m\u001b[1;33m.\u001b[0m\u001b[0m__init__\u001b[0m\u001b[1;33m(\u001b[0m\u001b[1;34m'f'\u001b[0m\u001b[1;33m)\u001b[0m\u001b[1;33m\u001b[0m\u001b[0m\n\u001b[0m",
        "\u001b[1;31mNameError\u001b[0m: name 'Funktin' is not defined"
       ]
      }
     ],
     "prompt_number": 65
    },
    {
     "cell_type": "code",
     "collapsed": false,
     "input": [
      "f=Function('f')\n",
      "g=Function('f')\n",
      "a=Symbol('a')\n",
      "b=Symbol('a')\n",
      "i=Dummy('i')\n",
      "j=Dummy('i')\n",
      "\n",
      "print f == g\n",
      "print f is g\n",
      "print a == b\n",
      "print a is b\n",
      "print i == j\n",
      "print i is j"
     ],
     "language": "python",
     "metadata": {},
     "outputs": [
      {
       "ename": "SyntaxError",
       "evalue": "invalid syntax (<ipython-input-98-3343462f6417>, line 8)",
       "output_type": "pyerr",
       "traceback": [
        "\u001b[1;36m  File \u001b[1;32m\"<ipython-input-98-3343462f6417>\"\u001b[1;36m, line \u001b[1;32m8\u001b[0m\n\u001b[1;33m    print f == g\u001b[0m\n\u001b[1;37m          ^\u001b[0m\n\u001b[1;31mSyntaxError\u001b[0m\u001b[1;31m:\u001b[0m invalid syntax\n"
       ]
      }
     ],
     "prompt_number": 98
    },
    {
     "cell_type": "code",
     "collapsed": false,
     "input": [
      "from __future__ import print_function, division\n",
      "\n",
      "from sympy.core.add import Add\n",
      "from sympy.core.assumptions import ManagedProperties\n",
      "from sympy.core.basic import Basic\n",
      "from sympy.core.cache import cacheit\n",
      "from sympy.core.compatibility import iterable, is_sequence, as_int, ordered\n",
      "from sympy.core.core import BasicMeta, C\n",
      "from sympy.core.decorators import _sympifyit\n",
      "from sympy.core.expr import Expr, AtomicExpr\n",
      "from sympy.core.numbers import Rational, Float\n",
      "from sympy.core.rules import Transform\n",
      "from sympy.core.singleton import S\n",
      "from sympy.core.sympify import sympify\n",
      "\n",
      "from sympy.core.containers import Tuple, Dict\n",
      "from sympy.core.logic import fuzzy_and\n",
      "from sympy.core.compatibility import string_types, with_metaclass, xrange\n",
      "from sympy.utilities import default_sort_key\n",
      "from sympy.utilities.iterables import uniq\n",
      "\n",
      "from sympy import mpmath\n",
      "import sympy.mpmath.libmp as mlib\n",
      "\n",
      "import inspect"
     ],
     "language": "python",
     "metadata": {},
     "outputs": [],
     "prompt_number": 1
    },
    {
     "cell_type": "code",
     "collapsed": false,
     "input": [
      "from sympy.core.function import Function, UndefinedFunction, AppliedUndef\n",
      "from sympy.core.cache import cacheit\n",
      "from sympy.core.core import BasicMeta\n",
      "\n",
      "class TensorFunction(Function):\n",
      "    \n",
      "    @cacheit\n",
      "    def __new__(cls, *args, **options):\n",
      "        # Handle calls like TensorFunction('F')\n",
      "        if cls is TensorFunction:\n",
      "            return UndefinedTensorFunction(*args, **options)\n",
      "        \n",
      "class UndefinedTensorFunction(UndefinedFunction):\n",
      "    \"\"\"\n",
      "    The (meta)class of undefined tensorFunctions.\n",
      "    \"\"\"\n",
      "    def __new__(mcl, name, **kwargs): #un-modified form parrent UndefindeFunction\n",
      "        ret = BasicMeta.__new__(mcl, name, (AppliedTensor,), kwargs)\n",
      "        ret.__module__ = None\n",
      "        return ret \n",
      "    \n",
      "\n",
      "#copy pased with UndefinedFunction -> UndefinedTensorFunction. I have no idea what this does\n",
      "UndefinedTensorFunction.__eq__ = lambda s, o: (isinstance(o, s.__class__) and \n",
      "                                         (s.class_key() == o.class_key()))\n",
      "\n",
      "class AppliedTensor(AppliedUndef):\n",
      "    \"\"\"\n",
      "    Base class for expressions resulting from the application of an undefined\n",
      "    function.\n",
      "    \"\"\"\n",
      "\n",
      "    def __new__(cls, *args, **options):\n",
      "        args = list(map(sympify, args))\n",
      "        obj = super(AppliedTensor, cls).__new__(cls, *args, **options)\n",
      "        return obj\n",
      "    \n",
      "    def __init__(self,*args,**options):\n",
      "        self.is_Tensor=True\n",
      "    \n",
      "    def index(self):\n",
      "        return self.args[0]\n",
      "    \n",
      "\n",
      "'''\n",
      "TensorFunction is a copy of the contruction of Function with the addition .index() and .is_tensor\n",
      "\n",
      "User guide: Put the indecis as an tupple, as the rist index in the TensorFunktion\n",
      "Example: To get the tensorFunction $T_{a,b}(x)$, witie:\n",
      ">>> T=TenosrFunction('T')\n",
      ">>> T((a,b),x)\n",
      "\n",
      "It is suggested to ouse the class Dummy for indecis and the class Symbol for ordinary variables, to keep them appart.\n",
      "'''\n",
      "\n",
      "#Special tesors\n",
      "\n",
      "class Delta(AppliedTensor):\n",
      "    \n",
      "    def index(self):\n",
      "        return self.args\n",
      "  \n",
      "    \n",
      "class Eps(AppliedTensor):\n",
      "\n",
      "    def index(self):\n",
      "        return self.args"
     ],
     "language": "python",
     "metadata": {},
     "outputs": [],
     "prompt_number": 20
    },
    {
     "cell_type": "code",
     "collapsed": false,
     "input": [
      "from sympy import *\n",
      "a=Dummy('a'); b=Dummy('b')\n",
      "Delta(a,b)"
     ],
     "language": "python",
     "metadata": {},
     "outputs": [
      {
       "metadata": {},
       "output_type": "pyout",
       "prompt_number": 13,
       "text": [
        "Delta(_a, _b)"
       ]
      }
     ],
     "prompt_number": 13
    },
    {
     "cell_type": "code",
     "collapsed": false,
     "input": [
      "c=Dummy('c')\n",
      "Eps(a,b,c)"
     ],
     "language": "python",
     "metadata": {},
     "outputs": [
      {
       "metadata": {},
       "output_type": "pyout",
       "prompt_number": 16,
       "text": [
        "Eps(_a, _b, _c)"
       ]
      }
     ],
     "prompt_number": 16
    },
    {
     "cell_type": "code",
     "collapsed": false,
     "input": [
      "Eps"
     ],
     "language": "python",
     "metadata": {},
     "outputs": [
      {
       "metadata": {},
       "output_type": "pyout",
       "prompt_number": 17,
       "text": [
        "__main__.Eps"
       ]
      }
     ],
     "prompt_number": 17
    },
    {
     "cell_type": "code",
     "collapsed": false,
     "input": [
      "isinstance(Eps(a,b,c),AppliedTensor)"
     ],
     "language": "python",
     "metadata": {},
     "outputs": [
      {
       "metadata": {},
       "output_type": "pyout",
       "prompt_number": 18,
       "text": [
        "True"
       ]
      }
     ],
     "prompt_number": 18
    },
    {
     "cell_type": "code",
     "collapsed": false,
     "input": [
      "F=TensorFunction('F')\n",
      "x=Symbol('x')\n",
      "type(F)"
     ],
     "language": "python",
     "metadata": {},
     "outputs": [
      {
       "metadata": {},
       "output_type": "pyout",
       "prompt_number": 21,
       "text": [
        "__main__.UndefinedTensorFunction"
       ]
      }
     ],
     "prompt_number": 21
    },
    {
     "cell_type": "code",
     "collapsed": false,
     "input": [
      "type(F(x))"
     ],
     "language": "python",
     "metadata": {},
     "outputs": [
      {
       "metadata": {},
       "output_type": "pyout",
       "prompt_number": 22,
       "text": [
        "F"
       ]
      }
     ],
     "prompt_number": 22
    },
    {
     "cell_type": "code",
     "collapsed": false,
     "input": [
      "type(F)"
     ],
     "language": "python",
     "metadata": {},
     "outputs": [
      {
       "metadata": {},
       "output_type": "pyout",
       "prompt_number": 57,
       "text": [
        "__main__.UndefinedTensorFunction"
       ]
      }
     ],
     "prompt_number": 57
    },
    {
     "cell_type": "code",
     "collapsed": false,
     "input": [
      "F.__base__"
     ],
     "language": "python",
     "metadata": {},
     "outputs": [
      {
       "metadata": {},
       "output_type": "pyout",
       "prompt_number": 23,
       "text": [
        "__main__.AppliedTensor"
       ]
      }
     ],
     "prompt_number": 23
    },
    {
     "cell_type": "code",
     "collapsed": false,
     "input": [
      "isinstance(F(x),AppliedUndef)"
     ],
     "language": "python",
     "metadata": {},
     "outputs": [
      {
       "metadata": {},
       "output_type": "pyout",
       "prompt_number": 24,
       "text": [
        "True"
       ]
      }
     ],
     "prompt_number": 24
    },
    {
     "cell_type": "code",
     "collapsed": false,
     "input": [
      "isinstance(F(x),AppliedTensor)"
     ],
     "language": "python",
     "metadata": {},
     "outputs": [
      {
       "metadata": {},
       "output_type": "pyout",
       "prompt_number": 28,
       "text": [
        "True"
       ]
      }
     ],
     "prompt_number": 28
    },
    {
     "cell_type": "code",
     "collapsed": false,
     "input": [
      "type(type(F(x)))"
     ],
     "language": "python",
     "metadata": {},
     "outputs": [
      {
       "metadata": {},
       "output_type": "pyout",
       "prompt_number": 25,
       "text": [
        "__main__.UndefinedTensorFunction"
       ]
      }
     ],
     "prompt_number": 25
    },
    {
     "cell_type": "code",
     "collapsed": false,
     "input": [
      "a=Dummy('a')\n",
      "b=Dummy('b')\n",
      "F((a,b),x)"
     ],
     "language": "python",
     "metadata": {},
     "outputs": [
      {
       "metadata": {},
       "output_type": "pyout",
       "prompt_number": 26,
       "text": [
        "F((_a, _b), x)"
       ]
      }
     ],
     "prompt_number": 26
    },
    {
     "cell_type": "code",
     "collapsed": false,
     "input": [
      "F((a,b),x).index()"
     ],
     "language": "python",
     "metadata": {},
     "outputs": [
      {
       "metadata": {},
       "output_type": "pyout",
       "prompt_number": 27,
       "text": [
        "(_a, _b)"
       ]
      }
     ],
     "prompt_number": 27
    },
    {
     "cell_type": "code",
     "collapsed": false,
     "input": [
      "F((a,b),x).is_Tensor"
     ],
     "language": "python",
     "metadata": {},
     "outputs": [
      {
       "metadata": {},
       "output_type": "pyout",
       "prompt_number": 37,
       "text": [
        "True"
       ]
      }
     ],
     "prompt_number": 37
    },
    {
     "cell_type": "code",
     "collapsed": false,
     "input": [
      "M=84;C=22;FP=19;KD=17;S=113;V=21;MP=24;SD=49\n",
      "T=M+C+FP+KD+S+V+MP+SD\n",
      "T"
     ],
     "language": "python",
     "metadata": {},
     "outputs": [
      {
       "metadata": {},
       "output_type": "pyout",
       "prompt_number": 102,
       "text": [
        "349"
       ]
      }
     ],
     "prompt_number": 102
    },
    {
     "cell_type": "code",
     "collapsed": false,
     "input": [
      "4+2+9+7+3+1+4+9"
     ],
     "language": "python",
     "metadata": {},
     "outputs": [
      {
       "metadata": {},
       "output_type": "pyout",
       "prompt_number": 101,
       "text": [
        "39"
       ]
      }
     ],
     "prompt_number": 101
    },
    {
     "cell_type": "code",
     "collapsed": false,
     "input": [
      "(V+S+MP)/T"
     ],
     "language": "python",
     "metadata": {},
     "outputs": [
      {
       "metadata": {},
       "output_type": "pyout",
       "prompt_number": 103,
       "text": [
        "0.45272206303724927"
       ]
      }
     ],
     "prompt_number": 103
    },
    {
     "cell_type": "code",
     "collapsed": false,
     "input": [
      "(S+MP+FP+C)/T"
     ],
     "language": "python",
     "metadata": {},
     "outputs": [
      {
       "metadata": {},
       "output_type": "pyout",
       "prompt_number": 104,
       "text": [
        "0.5100286532951289"
       ]
      }
     ],
     "prompt_number": 104
    },
    {
     "cell_type": "code",
     "collapsed": false,
     "input": [
      "(S+MP+FP+V)/T"
     ],
     "language": "python",
     "metadata": {},
     "outputs": [
      {
       "metadata": {},
       "output_type": "pyout",
       "prompt_number": 105,
       "text": [
        "0.5071633237822349"
       ]
      }
     ],
     "prompt_number": 105
    },
    {
     "cell_type": "code",
     "collapsed": false,
     "input": [
      "S+MP+FP+V"
     ],
     "language": "python",
     "metadata": {},
     "outputs": [
      {
       "metadata": {},
       "output_type": "pyout",
       "prompt_number": 106,
       "text": [
        "177"
       ]
      }
     ],
     "prompt_number": 106
    },
    {
     "cell_type": "code",
     "collapsed": false,
     "input": [
      "T/2"
     ],
     "language": "python",
     "metadata": {},
     "outputs": [
      {
       "metadata": {},
       "output_type": "pyout",
       "prompt_number": 107,
       "text": [
        "174.5"
       ]
      }
     ],
     "prompt_number": 107
    },
    {
     "cell_type": "code",
     "collapsed": false,
     "input": [],
     "language": "python",
     "metadata": {},
     "outputs": []
    }
   ],
   "metadata": {}
  }
 ]
}