{
 "metadata": {
  "name": "",
  "signature": "sha256:3190123119c04bca19bb8ac4bc01100a504aff84e609e9a38a4e03e24ed7c036"
 },
 "nbformat": 3,
 "nbformat_minor": 0,
 "worksheets": [
  {
   "cells": [
    {
     "cell_type": "code",
     "collapsed": false,
     "input": [
      "%pylab inline"
     ],
     "language": "python",
     "metadata": {},
     "outputs": [
      {
       "output_type": "stream",
       "stream": "stdout",
       "text": [
        "Populating the interactive namespace from numpy and matplotlib\n"
       ]
      }
     ],
     "prompt_number": 1
    },
    {
     "cell_type": "code",
     "collapsed": false,
     "input": [
      "from sympy import *"
     ],
     "language": "python",
     "metadata": {},
     "outputs": [],
     "prompt_number": 3
    },
    {
     "cell_type": "code",
     "collapsed": false,
     "input": [
      "import numpy"
     ],
     "language": "python",
     "metadata": {},
     "outputs": [],
     "prompt_number": 4
    },
    {
     "cell_type": "code",
     "collapsed": false,
     "input": [
      "from sympy.physics.quantum import *"
     ],
     "language": "python",
     "metadata": {},
     "outputs": [],
     "prompt_number": 5
    },
    {
     "cell_type": "code",
     "collapsed": false,
     "input": [
      "init_printing()"
     ],
     "language": "python",
     "metadata": {},
     "outputs": [],
     "prompt_number": 27
    },
    {
     "cell_type": "code",
     "collapsed": false,
     "input": [
      "u = Ket('0')\n",
      "d = Ket('1')\n",
      "\n",
      "dd=qapply(Dagger(d) * d)\n",
      "du=qapply(Dagger(d) * u)\n",
      "ud=qapply(Dagger(u) * d)\n",
      "uu=qapply(Dagger(u) * u)"
     ],
     "language": "python",
     "metadata": {},
     "outputs": [],
     "prompt_number": 7
    },
    {
     "cell_type": "code",
     "collapsed": false,
     "input": [
      "def scal(qq):\n",
      "    return qq.subs(dd,1).subs(uu,1).subs(du,0).subs(ud,0)"
     ],
     "language": "python",
     "metadata": {},
     "outputs": [],
     "prompt_number": 24
    },
    {
     "cell_type": "code",
     "collapsed": false,
     "input": [
      "type(dd)"
     ],
     "language": "python",
     "metadata": {},
     "outputs": [
      {
       "metadata": {},
       "output_type": "pyout",
       "prompt_number": 29,
       "text": [
        "sympy.physics.quantum.innerproduct.InnerProduct"
       ]
      }
     ],
     "prompt_number": 29
    },
    {
     "cell_type": "code",
     "collapsed": false,
     "input": [
      "a, b = symbols('alpha beta', complex=True)\n",
      "phi = a * u + sqrt(1-abs(a)**2) * d\n",
      "phi"
     ],
     "language": "python",
     "metadata": {},
     "outputs": [
      {
       "latex": [
        "$$\\alpha {\\left|0\\right\\rangle } + \\sqrt{- \\left\\lvert{\\alpha}\\right\\rvert^{2} + 1} {\\left|1\\right\\rangle }$$"
       ],
       "metadata": {},
       "output_type": "pyout",
       "png": "[encoded data removed]",
       "prompt_number": 28,
       "text": [
        "           ____________    \n",
        "          \u2571      2         \n",
        "\u03b1\u22c5\u27580\u27e9 + \u2572\u2571  - \u2502\u03b1\u2502  + 1 \u22c5\u27581\u27e9"
       ]
      }
     ],
     "prompt_number": 28
    },
    {
     "cell_type": "code",
     "collapsed": false,
     "input": [
      "qapply(Dagger(d)*phi)"
     ],
     "language": "python",
     "metadata": {},
     "outputs": [
      {
       "latex": [
        "$$\\alpha \\left\\langle 1 \\right. {\\left|0\\right\\rangle } + \\sqrt{- \\left\\lvert{\\alpha}\\right\\rvert^{2} + 1} \\left\\langle 1 \\right. {\\left|1\\right\\rangle }$$"
       ],
       "metadata": {},
       "output_type": "pyout",
       "png": "[encoded data removed]",
       "prompt_number": 33,
       "text": [
        "             ____________      \n",
        "            \u2571      2           \n",
        "\u03b1\u22c5\u27e81\u27580\u27e9 + \u2572\u2571  - \u2502\u03b1\u2502  + 1 \u22c5\u27e81\u27581\u27e9"
       ]
      }
     ],
     "prompt_number": 33
    },
    {
     "cell_type": "code",
     "collapsed": false,
     "input": [
      "scal(qapply(Dagger(d)*phi))"
     ],
     "language": "python",
     "metadata": {},
     "outputs": [
      {
       "latex": [
        "$$\\sqrt{- \\left\\lvert{\\alpha}\\right\\rvert^{2} + 1}$$"
       ],
       "metadata": {},
       "output_type": "pyout",
       "png": "[encoded data removed]",
       "prompt_number": 45,
       "text": [
        "   ____________\n",
        "  \u2571      2     \n",
        "\u2572\u2571  - \u2502\u03b1\u2502  + 1 "
       ]
      }
     ],
     "prompt_number": 45
    },
    {
     "cell_type": "code",
     "collapsed": false,
     "input": [
      "abs(scal(qapply(Dagger(d)*phi))**2)"
     ],
     "language": "python",
     "metadata": {},
     "outputs": [
      {
       "latex": [
        "$$\\left\\lvert{- \\left\\lvert{\\alpha}\\right\\rvert^{2} + 1}\\right\\rvert$$"
       ],
       "metadata": {},
       "output_type": "pyout",
       "png": "[encoded data removed]",
       "prompt_number": 49,
       "text": [
        "\u2502     2    \u2502\n",
        "\u2502- \u2502\u03b1\u2502  + 1\u2502"
       ]
      }
     ],
     "prompt_number": 49
    },
    {
     "cell_type": "code",
     "collapsed": false,
     "input": [
      "help(simplify)"
     ],
     "language": "python",
     "metadata": {},
     "outputs": [
      {
       "output_type": "stream",
       "stream": "stdout",
       "text": [
        "Help on function simplify in module sympy.simplify.simplify:\n",
        "\n",
        "simplify(expr, ratio=1.7, measure=<function count_ops>, fu=False)\n",
        "    Simplifies the given expression.\n",
        "    \n",
        "    Simplification is not a well defined term and the exact strategies\n",
        "    this function tries can change in the future versions of SymPy. If\n",
        "    your algorithm relies on \"simplification\" (whatever it is), try to\n",
        "    determine what you need exactly  -  is it powsimp()?, radsimp()?,\n",
        "    together()?, logcombine()?, or something else? And use this particular\n",
        "    function directly, because those are well defined and thus your algorithm\n",
        "    will be robust.\n",
        "    \n",
        "    Nonetheless, especially for interactive use, or when you don't know\n",
        "    anything about the structure of the expression, simplify() tries to apply\n",
        "    intelligent heuristics to make the input expression \"simpler\".  For\n",
        "    example:\n",
        "    \n",
        "    >>> from sympy import simplify, cos, sin\n",
        "    >>> from sympy.abc import x, y\n",
        "    >>> a = (x + x**2)/(x*sin(y)**2 + x*cos(y)**2)\n",
        "    >>> a\n",
        "    (x**2 + x)/(x*sin(y)**2 + x*cos(y)**2)\n",
        "    >>> simplify(a)\n",
        "    x + 1\n",
        "    \n",
        "    Note that we could have obtained the same result by using specific\n",
        "    simplification functions:\n",
        "    \n",
        "    >>> from sympy import trigsimp, cancel\n",
        "    >>> trigsimp(a)\n",
        "    (x**2 + x)/x\n",
        "    >>> cancel(_)\n",
        "    x + 1\n",
        "    \n",
        "    In some cases, applying :func:`simplify` may actually result in some more\n",
        "    complicated expression. The default ``ratio=1.7`` prevents more extreme\n",
        "    cases: if (result length)/(input length) > ratio, then input is returned\n",
        "    unmodified.  The ``measure`` parameter lets you specify the function used\n",
        "    to determine how complex an expression is.  The function should take a\n",
        "    single argument as an expression and return a number such that if\n",
        "    expression ``a`` is more complex than expression ``b``, then\n",
        "    ``measure(a) > measure(b)``.  The default measure function is\n",
        "    :func:`count_ops`, which returns the total number of operations in the\n",
        "    expression.\n",
        "    \n",
        "    For example, if ``ratio=1``, ``simplify`` output can't be longer\n",
        "    than input.\n",
        "    \n",
        "    ::\n",
        "    \n",
        "        >>> from sympy import sqrt, simplify, count_ops, oo\n",
        "        >>> root = 1/(sqrt(2)+3)\n",
        "    \n",
        "    Since ``simplify(root)`` would result in a slightly longer expression,\n",
        "    root is returned unchanged instead::\n",
        "    \n",
        "       >>> simplify(root, ratio=1) == root\n",
        "       True\n",
        "    \n",
        "    If ``ratio=oo``, simplify will be applied anyway::\n",
        "    \n",
        "        >>> count_ops(simplify(root, ratio=oo)) > count_ops(root)\n",
        "        True\n",
        "    \n",
        "    Note that the shortest expression is not necessary the simplest, so\n",
        "    setting ``ratio`` to 1 may not be a good idea.\n",
        "    Heuristically, the default value ``ratio=1.7`` seems like a reasonable\n",
        "    choice.\n",
        "    \n",
        "    You can easily define your own measure function based on what you feel\n",
        "    should represent the \"size\" or \"complexity\" of the input expression.  Note\n",
        "    that some choices, such as ``lambda expr: len(str(expr))`` may appear to be\n",
        "    good metrics, but have other problems (in this case, the measure function\n",
        "    may slow down simplify too much for very large expressions).  If you don't\n",
        "    know what a good metric would be, the default, ``count_ops``, is a good\n",
        "    one.\n",
        "    \n",
        "    For example:\n",
        "    \n",
        "    >>> from sympy import symbols, log\n",
        "    >>> a, b = symbols('a b', positive=True)\n",
        "    >>> g = log(a) + log(b) + log(a)*log(1/b)\n",
        "    >>> h = simplify(g)\n",
        "    >>> h\n",
        "    log(a*b**(-log(a) + 1))\n",
        "    >>> count_ops(g)\n",
        "    8\n",
        "    >>> count_ops(h)\n",
        "    5\n",
        "    \n",
        "    So you can see that ``h`` is simpler than ``g`` using the count_ops metric.\n",
        "    However, we may not like how ``simplify`` (in this case, using\n",
        "    ``logcombine``) has created the ``b**(log(1/a) + 1)`` term.  A simple way\n",
        "    to reduce this would be to give more weight to powers as operations in\n",
        "    ``count_ops``.  We can do this by using the ``visual=True`` option:\n",
        "    \n",
        "    >>> print(count_ops(g, visual=True))\n",
        "    2*ADD + DIV + 4*LOG + MUL\n",
        "    >>> print(count_ops(h, visual=True))\n",
        "    2*LOG + MUL + POW + SUB\n",
        "    \n",
        "    >>> from sympy import Symbol, S\n",
        "    >>> def my_measure(expr):\n",
        "    ...     POW = Symbol('POW')\n",
        "    ...     # Discourage powers by giving POW a weight of 10\n",
        "    ...     count = count_ops(expr, visual=True).subs(POW, 10)\n",
        "    ...     # Every other operation gets a weight of 1 (the default)\n",
        "    ...     count = count.replace(Symbol, type(S.One))\n",
        "    ...     return count\n",
        "    >>> my_measure(g)\n",
        "    8\n",
        "    >>> my_measure(h)\n",
        "    14\n",
        "    >>> 15./8 > 1.7 # 1.7 is the default ratio\n",
        "    True\n",
        "    >>> simplify(g, measure=my_measure)\n",
        "    -log(a)*log(b) + log(a) + log(b)\n",
        "    \n",
        "    Note that because ``simplify()`` internally tries many different\n",
        "    simplification strategies and then compares them using the measure\n",
        "    function, we get a completely different result that is still different\n",
        "    from the input expression by doing this.\n",
        "\n"
       ]
      }
     ],
     "prompt_number": 40
    },
    {
     "cell_type": "code",
     "collapsed": false,
     "input": [
      "add(1,1)"
     ],
     "language": "python",
     "metadata": {},
     "outputs": [
      {
       "ename": "TypeError",
       "evalue": "'module' object is not callable",
       "output_type": "pyerr",
       "traceback": [
        "\u001b[1;31m---------------------------------------------------------------------------\u001b[0m\n\u001b[1;31mTypeError\u001b[0m                                 Traceback (most recent call last)",
        "\u001b[1;32m<ipython-input-50-853f30107e71>\u001b[0m in \u001b[0;36m<module>\u001b[1;34m()\u001b[0m\n\u001b[1;32m----> 1\u001b[1;33m \u001b[0madd\u001b[0m\u001b[1;33m(\u001b[0m\u001b[1;36m1\u001b[0m\u001b[1;33m,\u001b[0m\u001b[1;36m1\u001b[0m\u001b[1;33m)\u001b[0m\u001b[1;33m\u001b[0m\u001b[0m\n\u001b[0m",
        "\u001b[1;31mTypeError\u001b[0m: 'module' object is not callable"
       ]
      }
     ],
     "prompt_number": 50
    },
    {
     "cell_type": "code",
     "collapsed": false,
     "input": [
      "1+1"
     ],
     "language": "python",
     "metadata": {},
     "outputs": [
      {
       "latex": [
        "$$2$$"
       ],
       "metadata": {},
       "output_type": "pyout",
       "png": "[encoded data removed]",
       "prompt_number": 51,
       "text": [
        "2"
       ]
      }
     ],
     "prompt_number": 51
    },
    {
     "cell_type": "code",
     "collapsed": false,
     "input": [
      "(1).__add__(1)"
     ],
     "language": "python",
     "metadata": {},
     "outputs": [
      {
       "latex": [
        "$$2$$"
       ],
       "metadata": {},
       "output_type": "pyout",
       "png": "[encoded data removed]",
       "prompt_number": 52,
       "text": [
        "2"
       ]
      }
     ],
     "prompt_number": 52
    },
    {
     "cell_type": "code",
     "collapsed": false,
     "input": [],
     "language": "python",
     "metadata": {},
     "outputs": []
    }
   ],
   "metadata": {}
  }
 ]
}