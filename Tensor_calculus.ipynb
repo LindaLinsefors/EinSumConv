{
 "metadata": {
  "name": "",
  "signature": "sha256:6ba45df6f5e8d42e9eaa3511aec483582e951323fcebed64bcf06506e527e38b"
 },
 "nbformat": 3,
 "nbformat_minor": 0,
 "worksheets": [
  {
   "cells": [
    {
     "cell_type": "code",
     "collapsed": false,
     "input": [
      "from sympy import *\n",
      "from Tensors import *"
     ],
     "language": "python",
     "metadata": {},
     "outputs": [],
     "prompt_number": 1
    },
    {
     "cell_type": "code",
     "collapsed": false,
     "input": [
      "a=Dummy('a');b=Dummy('b')\n",
      "x=Symbol('x')\n",
      "F=Function('F')\n",
      "f=F(x)\n",
      "T=Tensor('T')\n",
      "t=T(a,b)\n",
      "TF=TensorFunction('TF')\n",
      "tf=TF((a,b),x)"
     ],
     "language": "python",
     "metadata": {},
     "outputs": [],
     "prompt_number": 4
    },
    {
     "cell_type": "code",
     "collapsed": false,
     "input": [
      "print t\n",
      "print type(t)\n",
      "print T.__base__\n",
      "print t.args\n",
      "print t.index\n",
      "print\n",
      "print tf\n",
      "print type(tf)\n",
      "print TF.__base__\n",
      "print tf.args\n",
      "print tf.index"
     ],
     "language": "python",
     "metadata": {},
     "outputs": [
      {
       "output_type": "stream",
       "stream": "stdout",
       "text": [
        "T(_a, _b)\n",
        "T\n",
        "AppliedTensor\n",
        "()\n",
        "(_a, _b)\n",
        "\n",
        "TF((_a, _b), x)\n",
        "TF\n",
        "AppliedTensorFunction\n",
        "(x,)\n",
        "(_a, _b)\n"
       ]
      }
     ],
     "prompt_number": 5
    },
    {
     "cell_type": "code",
     "collapsed": false,
     "input": [
      "print diff(t,x)\n",
      "print diff(tf,x)"
     ],
     "language": "python",
     "metadata": {},
     "outputs": [
      {
       "output_type": "stream",
       "stream": "stdout",
       "text": [
        "0\n",
        "Derivative(TF(x), x)\n"
       ]
      }
     ],
     "prompt_number": 6
    },
    {
     "cell_type": "code",
     "collapsed": false,
     "input": [],
     "language": "python",
     "metadata": {},
     "outputs": []
    }
   ],
   "metadata": {}
  }
 ]
}