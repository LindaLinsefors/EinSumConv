{
 "metadata": {
  "name": "",
  "signature": "sha256:d7b287a24cc6711913e6708f491c25cd25e254d4842d769fad4001ba26605619"
 },
 "nbformat": 3,
 "nbformat_minor": 0,
 "worksheets": [
  {
   "cells": [
    {
     "cell_type": "code",
     "collapsed": false,
     "input": [
      "from sympy import *\n",
      "from Tensors import *"
     ],
     "language": "python",
     "metadata": {},
     "outputs": [],
     "prompt_number": 1
    },
    {
     "cell_type": "code",
     "collapsed": false,
     "input": [
      "a=Dummy('a');b=Dummy('b')\n",
      "x=Symbol('x')\n",
      "F=Function('F')\n",
      "f=F(x)\n",
      "T=Tensor('T')\n",
      "t=T(a,b)\n",
      "tf=T((a,b),x)"
     ],
     "language": "python",
     "metadata": {},
     "outputs": [
      {
       "output_type": "stream",
       "stream": "stdout",
       "text": [
        "(_a, _b)\n",
        "((_a, _b), x)\n",
        "yes\n"
       ]
      }
     ],
     "prompt_number": 2
    },
    {
     "cell_type": "code",
     "collapsed": false,
     "input": [
      "print t\n",
      "print type(t)\n",
      "print T.__base__\n",
      "print t.args\n",
      "print t.index\n",
      "print\n",
      "print tf\n",
      "print type(tf)\n",
      "print tf.args\n",
      "print tf.index"
     ],
     "language": "python",
     "metadata": {},
     "outputs": [
      {
       "output_type": "stream",
       "stream": "stdout",
       "text": [
        "T(_a, _b)\n",
        "T\n",
        "AppliedTensor\n",
        "()\n",
        "(_a, _b)\n",
        "\n",
        "T((_a, _b), x)\n",
        "T\n",
        "(x,)\n",
        "(_a, _b)\n"
       ]
      }
     ],
     "prompt_number": 3
    },
    {
     "cell_type": "code",
     "collapsed": false,
     "input": [
      "print diff(t,x)\n",
      "print diff(tf,x)"
     ],
     "language": "python",
     "metadata": {},
     "outputs": [
      {
       "output_type": "stream",
       "stream": "stdout",
       "text": [
        "0\n",
        "Derivative(T(x), x)\n"
       ]
      }
     ],
     "prompt_number": 4
    },
    {
     "cell_type": "code",
     "collapsed": false,
     "input": [
      "diff(tf,x).args"
     ],
     "language": "python",
     "metadata": {},
     "outputs": [
      {
       "metadata": {},
       "output_type": "pyout",
       "prompt_number": 9,
       "text": [
        "(T((_a, _b), x), x)"
       ]
      }
     ],
     "prompt_number": 9
    },
    {
     "cell_type": "code",
     "collapsed": false,
     "input": [],
     "language": "python",
     "metadata": {},
     "outputs": []
    }
   ],
   "metadata": {}
  }
 ]
}