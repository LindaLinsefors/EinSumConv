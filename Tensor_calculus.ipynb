{
 "metadata": {
  "name": "",
  "signature": "sha256:bcae8298d22ffb65c1588a9b2749c8594a596be53636b43f1dbf46cedfd5c59a"
 },
 "nbformat": 3,
 "nbformat_minor": 0,
 "worksheets": [
  {
   "cells": [
    {
     "cell_type": "code",
     "collapsed": false,
     "input": [
      "from sympy import *\n",
      "from Tensors import *"
     ],
     "language": "python",
     "metadata": {},
     "outputs": [],
     "prompt_number": 1
    },
    {
     "cell_type": "code",
     "collapsed": false,
     "input": [
      "a=Dummy('a');b=Dummy('b')\n",
      "x=Symbol('x')\n",
      "F=Function('F')\n",
      "f=F(x)\n",
      "T=Tensor('T')\n",
      "t=T(a,b)\n",
      "tf=T((a,b),x)"
     ],
     "language": "python",
     "metadata": {},
     "outputs": [
      {
       "output_type": "stream",
       "stream": "stdout",
       "text": [
        "(_a, _b)\n",
        "((_a, _b), x)\n",
        "yes\n"
       ]
      }
     ],
     "prompt_number": 2
    },
    {
     "cell_type": "code",
     "collapsed": false,
     "input": [
      "print t\n",
      "print type(t)\n",
      "print T.__base__\n",
      "print t.args\n",
      "print t.index\n",
      "print\n",
      "print tf\n",
      "print type(tf)\n",
      "print tf.args\n",
      "print tf.index"
     ],
     "language": "python",
     "metadata": {},
     "outputs": [
      {
       "output_type": "stream",
       "stream": "stdout",
       "text": [
        "T(_a, _b)\n",
        "T\n",
        "AppliedTensor\n",
        "()\n",
        "(_a, _b)\n",
        "\n",
        "T((_a, _b), x)\n",
        "T\n",
        "(x,)\n",
        "(_a, _b)\n"
       ]
      }
     ],
     "prompt_number": 3
    },
    {
     "cell_type": "code",
     "collapsed": false,
     "input": [
      "print diff(t,x)\n",
      "print diff(tf,x)"
     ],
     "language": "python",
     "metadata": {},
     "outputs": [
      {
       "output_type": "stream",
       "stream": "stdout",
       "text": [
        "0\n",
        "Derivative(T(x), x)\n"
       ]
      }
     ],
     "prompt_number": 4
    },
    {
     "cell_type": "code",
     "collapsed": false,
     "input": [
      "diff(tf,x).args"
     ],
     "language": "python",
     "metadata": {},
     "outputs": [
      {
       "metadata": {},
       "output_type": "pyout",
       "prompt_number": 9,
       "text": [
        "(T((_a, _b), x), x)"
       ]
      }
     ],
     "prompt_number": 9
    },
    {
     "cell_type": "code",
     "collapsed": false,
     "input": [
      "Derivative"
     ],
     "language": "python",
     "metadata": {},
     "outputs": [
      {
       "metadata": {},
       "output_type": "pyout",
       "prompt_number": 10,
       "text": [
        "sympy.core.function.Derivative"
       ]
      }
     ],
     "prompt_number": 10
    },
    {
     "cell_type": "code",
     "collapsed": false,
     "input": [
      "a=Dummy('a');b=Dummy('b')\n",
      "x,y=symbols('x,y')\n",
      "T=Tensor('T')\n",
      "Tt=Tensor('T')\n",
      "print T == Tt\n",
      "print T is Tt\n",
      "print T((a,b),x)==Tt((a,b),x)\n",
      "print T((a,b),x) is Tt((a,b),x)"
     ],
     "language": "python",
     "metadata": {},
     "outputs": [
      {
       "output_type": "stream",
       "stream": "stdout",
       "text": [
        "True\n",
        "True\n",
        "True\n",
        "False\n"
       ]
      }
     ],
     "prompt_number": 40
    },
    {
     "cell_type": "code",
     "collapsed": false,
     "input": [
      "((a,b),x) == ((b,a),x)"
     ],
     "language": "python",
     "metadata": {},
     "outputs": [
      {
       "metadata": {},
       "output_type": "pyout",
       "prompt_number": 42,
       "text": [
        "False"
       ]
      }
     ],
     "prompt_number": 42
    },
    {
     "cell_type": "code",
     "collapsed": false,
     "input": [
      "a=Dummy('a');b=Dummy('b')\n",
      "x,y=symbols('x,y')\n",
      "T=Tensor('T')\n",
      "Tt=Tensor('T')\n",
      "\n",
      "test=T((a,b),x)\n",
      "print test\n",
      "test._args=(y,)\n",
      "print test\n",
      "print test==T((a,b),x)\n",
      "print test==T((a,b),y)\n",
      "print test is T((a,b),x)\n",
      "print test is T((a,b),y)\n",
      "print test * T((a,b),x)\n",
      "print test * T((a,b),y)\n",
      "print\n",
      "test.index=(b,a)\n",
      "print test\n",
      "print test==T((a,b),y)\n",
      "print test==T((b,a),y)\n",
      "print test is T((a,b),y)\n",
      "print test is T((b,a),y)"
     ],
     "language": "python",
     "metadata": {},
     "outputs": [
      {
       "output_type": "stream",
       "stream": "stdout",
       "text": [
        "T((_a, _b), x)\n",
        "T((_a, _b), y)\n",
        "False\n",
        "True\n",
        "False\n",
        "False\n",
        "T(x)*T(y)\n",
        "T(y)**2\n",
        "\n",
        "T((_b, _a), y)\n",
        "False\n",
        "True\n",
        "False\n",
        "False\n"
       ]
      }
     ],
     "prompt_number": 2
    },
    {
     "cell_type": "code",
     "collapsed": false,
     "input": [
      "print str(test)+' * '+str(T((a,b),y))+' = '+str(test * T((a,b),y))\n",
      "print str(test)+' * '+str(T((a,b),y))+' = '+str(test * T((b,a),y))\n",
      "print str(test)+' - '+str(T((a,b),y))+' = '+str(test - T((a,b),y))\n",
      "print str(test)+' - '+str(T((a,b),y))+' = '+str(test - T((b,a),y))"
     ],
     "language": "python",
     "metadata": {},
     "outputs": [
      {
       "output_type": "stream",
       "stream": "stdout",
       "text": [
        "T((_b, _a), y) * T((_a, _b), y) = T(y)*T(y)\n",
        "T((_b, _a), y) * T((_a, _b), y) = T(y)**2\n",
        "T((_b, _a), y) - T((_a, _b), y) = -T(y) + T(y)\n",
        "T((_b, _a), y) - T((_a, _b), y) = 0\n"
       ]
      }
     ],
     "prompt_number": 11
    },
    {
     "cell_type": "code",
     "collapsed": false,
     "input": [],
     "language": "python",
     "metadata": {},
     "outputs": [
      {
       "output_type": "stream",
       "stream": "stdout",
       "text": [
        "T((_a, _b), x)\n",
        "T((_a, _b), y)\n",
        "True\n",
        "True\n"
       ]
      }
     ],
     "prompt_number": 4
    },
    {
     "cell_type": "code",
     "collapsed": false,
     "input": [
      "test.indexAndArgs == T((a,b),x).indexAndArgs"
     ],
     "language": "python",
     "metadata": {},
     "outputs": [
      {
       "metadata": {},
       "output_type": "pyout",
       "prompt_number": 9,
       "text": [
        "False"
       ]
      }
     ],
     "prompt_number": 9
    },
    {
     "cell_type": "code",
     "collapsed": false,
     "input": [
      "type(test)"
     ],
     "language": "python",
     "metadata": {},
     "outputs": [
      {
       "metadata": {},
       "output_type": "pyout",
       "prompt_number": 43,
       "text": [
        "T"
       ]
      }
     ],
     "prompt_number": 43
    },
    {
     "cell_type": "code",
     "collapsed": false,
     "input": [
      "Mul"
     ],
     "language": "python",
     "metadata": {},
     "outputs": [
      {
       "metadata": {},
       "output_type": "pyout",
       "prompt_number": 4,
       "text": [
        "sympy.core.mul.Mul"
       ]
      }
     ],
     "prompt_number": 4
    },
    {
     "cell_type": "code",
     "collapsed": false,
     "input": [
      "type(Mul)"
     ],
     "language": "python",
     "metadata": {},
     "outputs": [
      {
       "metadata": {},
       "output_type": "pyout",
       "prompt_number": 5,
       "text": [
        "sympy.core.assumptions.ManagedProperties"
       ]
      }
     ],
     "prompt_number": 5
    },
    {
     "cell_type": "code",
     "collapsed": false,
     "input": [
      "a=Dummy('a');b=Dummy('b')\n",
      "x=Symbol('x')\n",
      "T=Tensor('T')\n",
      "l=[1,2,T((a,b),x)]"
     ],
     "language": "python",
     "metadata": {},
     "outputs": [],
     "prompt_number": 5
    },
    {
     "cell_type": "code",
     "collapsed": false,
     "input": [
      "l[2].index=(b,b)\n",
      "l"
     ],
     "language": "python",
     "metadata": {},
     "outputs": [
      {
       "metadata": {},
       "output_type": "pyout",
       "prompt_number": 8,
       "text": [
        "[1, 2, T((_b, _b), x)]"
       ]
      }
     ],
     "prompt_number": 8
    },
    {
     "cell_type": "code",
     "collapsed": false,
     "input": [
      "[1,2].index(3)"
     ],
     "language": "python",
     "metadata": {},
     "outputs": [
      {
       "ename": "ValueError",
       "evalue": "3 is not in list",
       "output_type": "pyerr",
       "traceback": [
        "\u001b[1;31m---------------------------------------------------------------------------\u001b[0m\n\u001b[1;31mValueError\u001b[0m                                Traceback (most recent call last)",
        "\u001b[1;32m<ipython-input-11-983d8ec1e835>\u001b[0m in \u001b[0;36m<module>\u001b[1;34m()\u001b[0m\n\u001b[1;32m----> 1\u001b[1;33m \u001b[1;33m[\u001b[0m\u001b[1;36m1\u001b[0m\u001b[1;33m,\u001b[0m\u001b[1;36m2\u001b[0m\u001b[1;33m]\u001b[0m\u001b[1;33m.\u001b[0m\u001b[0mindex\u001b[0m\u001b[1;33m(\u001b[0m\u001b[1;36m3\u001b[0m\u001b[1;33m)\u001b[0m\u001b[1;33m\u001b[0m\u001b[0m\n\u001b[0m",
        "\u001b[1;31mValueError\u001b[0m: 3 is not in list"
       ]
      }
     ],
     "prompt_number": 11
    },
    {
     "cell_type": "code",
     "collapsed": false,
     "input": [
      "2 in [1,2]"
     ],
     "language": "python",
     "metadata": {},
     "outputs": [
      {
       "metadata": {},
       "output_type": "pyout",
       "prompt_number": 10,
       "text": [
        "True"
       ]
      }
     ],
     "prompt_number": 10
    },
    {
     "cell_type": "code",
     "collapsed": false,
     "input": [
      "d={}\n",
      "d[3]=a\n",
      "print d\n",
      "print '3 in d: ' + str(3 in d)\n",
      "print 'a in d: ' + str(a in d)\n",
      "print\n",
      "d={}\n",
      "d[a]=3\n",
      "print d\n",
      "print '3 in d: ' + str(3 in d)\n",
      "print 'a in d: ' + str(a in d)"
     ],
     "language": "python",
     "metadata": {},
     "outputs": [
      {
       "output_type": "stream",
       "stream": "stdout",
       "text": [
        "{3: _a}\n",
        "3 in d: True\n",
        "a in d: False\n",
        "\n",
        "{_a: 3}\n",
        "3 in d: False\n",
        "a in d: True\n"
       ]
      }
     ],
     "prompt_number": 28
    },
    {
     "cell_type": "code",
     "collapsed": false,
     "input": [
      "3 in d"
     ],
     "language": "python",
     "metadata": {},
     "outputs": [
      {
       "metadata": {},
       "output_type": "pyout",
       "prompt_number": 20,
       "text": [
        "True"
       ]
      }
     ],
     "prompt_number": 20
    },
    {
     "cell_type": "code",
     "collapsed": false,
     "input": [
      "from EinSumConv.renameIndex import *\n",
      "from sympy import *\n",
      "from EinSumConv import *\n",
      "from EinSumConv.namingSymbols import *\n",
      "x=Dummy('x');y=Dummy('y');z=Dummy('z')\n",
      "T=Tensor('T')\n",
      "print newIndexFactorList([T(x,y),T(y,x),T(z,z)],getNewDummys())\n",
      "newIndexTermList([[T(x,y),T(y,x),T(z,z)],[T(z,y),T(y,z),T(x,x)]])"
     ],
     "language": "python",
     "metadata": {},
     "outputs": [
      {
       "output_type": "stream",
       "stream": "stdout",
       "text": [
        "[T([_a, _b],), T([_b, _a],), T([_c, _c],)]\n"
       ]
      },
      {
       "metadata": {},
       "output_type": "pyout",
       "prompt_number": 1,
       "text": [
        "[[T([_a, _b],), T([_b, _a],), T([_c, _c],)],\n",
        " [T([_a, _b],), T([_b, _a],), T([_c, _c],)]]"
       ]
      }
     ],
     "prompt_number": 1
    },
    {
     "cell_type": "code",
     "collapsed": false,
     "input": [
      "from EinSumConv.lists import *\n",
      "from EinSumConv.renameIndex import *\n",
      "from sympy import *\n",
      "from EinSumConv import *\n",
      "from EinSumConv.namingSymbols import *\n",
      "x=Dummy('x');y=Dummy('y');z=Dummy('z')\n",
      "T=Tensor('T')\n",
      "print makeFactorList(T(x,y)*T(y,x)*T(z,z))\n",
      "print makeFactorList(T(z,y)*T(y,z)*T(x,x))"
     ],
     "language": "python",
     "metadata": {},
     "outputs": [
      {
       "output_type": "stream",
       "stream": "stdout",
       "text": [
        "[T(_y, _x), T(_z, _z), T(_x, _y)]\n",
        "[T(_x, _x), T(_y, _z), T(_z, _y)]\n"
       ]
      }
     ],
     "prompt_number": 5
    },
    {
     "cell_type": "code",
     "collapsed": false,
     "input": [
      "type('a')"
     ],
     "language": "python",
     "metadata": {},
     "outputs": [
      {
       "metadata": {},
       "output_type": "pyout",
       "prompt_number": 3,
       "text": [
        "str"
       ]
      }
     ],
     "prompt_number": 3
    },
    {
     "cell_type": "code",
     "collapsed": false,
     "input": [
      "a.name"
     ],
     "language": "python",
     "metadata": {},
     "outputs": [
      {
       "ename": "NameError",
       "evalue": "name 'a' is not defined",
       "output_type": "pyerr",
       "traceback": [
        "\u001b[1;31m---------------------------------------------------------------------------\u001b[0m\n\u001b[1;31mNameError\u001b[0m                                 Traceback (most recent call last)",
        "\u001b[1;32m<ipython-input-4-c0a6f6c60584>\u001b[0m in \u001b[0;36m<module>\u001b[1;34m()\u001b[0m\n\u001b[1;32m----> 1\u001b[1;33m \u001b[0ma\u001b[0m\u001b[1;33m.\u001b[0m\u001b[0mname\u001b[0m\u001b[1;33m\u001b[0m\u001b[0m\n\u001b[0m",
        "\u001b[1;31mNameError\u001b[0m: name 'a' is not defined"
       ]
      }
     ],
     "prompt_number": 4
    },
    {
     "cell_type": "code",
     "collapsed": false,
     "input": [
      "from EinSumConv.renameIndex import *\n",
      "from EinSumConv import *\n",
      "from EinSumConv.lists import *\n",
      "from EinSumConv.tensor import *\n",
      "from sympy import *\n",
      "x=Dummy('x');y=Dummy('y');z=Dummy('z')\n",
      "T=Tensor('T')\n",
      "subsIndex(T(x,y),y,z)"
     ],
     "language": "python",
     "metadata": {},
     "outputs": [
      {
       "metadata": {},
       "output_type": "pyout",
       "prompt_number": 3,
       "text": [
        "T(_x, _z)"
       ]
      }
     ],
     "prompt_number": 3
    },
    {
     "cell_type": "code",
     "collapsed": false,
     "input": [
      "T(x,)"
     ],
     "language": "python",
     "metadata": {},
     "outputs": [
      {
       "metadata": {},
       "output_type": "pyout",
       "prompt_number": 8,
       "text": [
        "T(_x,)"
       ]
      }
     ],
     "prompt_number": 8
    },
    {
     "cell_type": "code",
     "collapsed": false,
     "input": [
      "makeFactorList(subsIndex(T((x,y),y)*T(x,y),y,z))"
     ],
     "language": "python",
     "metadata": {},
     "outputs": [
      {
       "metadata": {},
       "output_type": "pyout",
       "prompt_number": 2,
       "text": [
        "[T(_x, _z), T(_x, _z)]"
       ]
      }
     ],
     "prompt_number": 2
    },
    {
     "cell_type": "code",
     "collapsed": false,
     "input": [
      "T(x,y).withNewIndex(z)==T(z)"
     ],
     "language": "python",
     "metadata": {},
     "outputs": [
      {
       "metadata": {},
       "output_type": "pyout",
       "prompt_number": 7,
       "text": [
        "True"
       ]
      }
     ],
     "prompt_number": 7
    },
    {
     "cell_type": "code",
     "collapsed": false,
     "input": [
      "T(z)"
     ],
     "language": "python",
     "metadata": {},
     "outputs": [
      {
       "metadata": {},
       "output_type": "pyout",
       "prompt_number": 6,
       "text": [
        "T(_z,)"
       ]
      }
     ],
     "prompt_number": 6
    },
    {
     "cell_type": "code",
     "collapsed": false,
     "input": [
      "T((x,y),y).withNewIndex(z)"
     ],
     "language": "python",
     "metadata": {},
     "outputs": [
      {
       "metadata": {},
       "output_type": "pyout",
       "prompt_number": 2,
       "text": [
        "T((_z,), _y)"
       ]
      }
     ],
     "prompt_number": 2
    },
    {
     "cell_type": "code",
     "collapsed": false,
     "input": [
      "T((x,y),y).indexAndArgs"
     ],
     "language": "python",
     "metadata": {},
     "outputs": [
      {
       "metadata": {},
       "output_type": "pyout",
       "prompt_number": 4,
       "text": [
        "((_x, _y), _y)"
       ]
      }
     ],
     "prompt_number": 4
    },
    {
     "cell_type": "code",
     "collapsed": false,
     "input": [
      "class A(object):\n",
      "    def __str__(self):\n",
      "        return 'hej'\n",
      "    def __repr__(self):\n",
      "        return 'tjo'\n",
      "    \n",
      "print A()\n",
      "A()"
     ],
     "language": "python",
     "metadata": {},
     "outputs": [
      {
       "output_type": "stream",
       "stream": "stdout",
       "text": [
        "hej\n"
       ]
      },
      {
       "metadata": {},
       "output_type": "pyout",
       "prompt_number": 10,
       "text": [
        "tjo"
       ]
      }
     ],
     "prompt_number": 10
    },
    {
     "cell_type": "code",
     "collapsed": false,
     "input": [
      "class A(object):\n",
      "    pass\n",
      "    \n",
      "print A()\n",
      "A()"
     ],
     "language": "python",
     "metadata": {},
     "outputs": [
      {
       "output_type": "stream",
       "stream": "stdout",
       "text": [
        "<__main__.A object at 0x7f91fb218790>\n"
       ]
      },
      {
       "metadata": {},
       "output_type": "pyout",
       "prompt_number": 11,
       "text": [
        "<__main__.A at 0x7f91fb218750>"
       ]
      }
     ],
     "prompt_number": 11
    },
    {
     "cell_type": "code",
     "collapsed": false,
     "input": [
      "type(x+y).__mro__"
     ],
     "language": "python",
     "metadata": {},
     "outputs": [
      {
       "metadata": {},
       "output_type": "pyout",
       "prompt_number": 14,
       "text": [
        "(sympy.core.add.Add,\n",
        " sympy.core.expr.Expr,\n",
        " sympy.core.operations.AssocOp,\n",
        " sympy.core.basic.Basic,\n",
        " sympy.core.evalf.EvalfMixin,\n",
        " object)"
       ]
      }
     ],
     "prompt_number": 14
    },
    {
     "cell_type": "code",
     "collapsed": false,
     "input": [
      "isinstance(x+y,BasicMeta)"
     ],
     "language": "python",
     "metadata": {},
     "outputs": [
      {
       "metadata": {},
       "output_type": "pyout",
       "prompt_number": 15,
       "text": [
        "False"
       ]
      }
     ],
     "prompt_number": 15
    },
    {
     "cell_type": "code",
     "collapsed": false,
     "input": [
      "F=Function('F')\n",
      "F(x)._sympystr"
     ],
     "language": "python",
     "metadata": {},
     "outputs": [
      {
       "ename": "AttributeError",
       "evalue": "'F' object has no attribute '_sympystr'",
       "output_type": "pyerr",
       "traceback": [
        "\u001b[1;31m---------------------------------------------------------------------------\u001b[0m\n\u001b[1;31mAttributeError\u001b[0m                            Traceback (most recent call last)",
        "\u001b[1;32m<ipython-input-21-0601fa0a67ab>\u001b[0m in \u001b[0;36m<module>\u001b[1;34m()\u001b[0m\n\u001b[0;32m      1\u001b[0m \u001b[0mF\u001b[0m\u001b[1;33m=\u001b[0m\u001b[0mFunction\u001b[0m\u001b[1;33m(\u001b[0m\u001b[1;34m'F'\u001b[0m\u001b[1;33m)\u001b[0m\u001b[1;33m\u001b[0m\u001b[0m\n\u001b[1;32m----> 2\u001b[1;33m \u001b[0mF\u001b[0m\u001b[1;33m(\u001b[0m\u001b[0mx\u001b[0m\u001b[1;33m)\u001b[0m\u001b[1;33m.\u001b[0m\u001b[0m_sympystr\u001b[0m\u001b[1;33m\u001b[0m\u001b[0m\n\u001b[0m",
        "\u001b[1;31mAttributeError\u001b[0m: 'F' object has no attribute '_sympystr'"
       ]
      }
     ],
     "prompt_number": 21
    },
    {
     "cell_type": "code",
     "collapsed": false,
     "input": [
      "Function('F')==Function('F')"
     ],
     "language": "python",
     "metadata": {},
     "outputs": [
      {
       "metadata": {},
       "output_type": "pyout",
       "prompt_number": 23,
       "text": [
        "True"
       ]
      }
     ],
     "prompt_number": 23
    },
    {
     "cell_type": "code",
     "collapsed": false,
     "input": [
      "from sympy import *\n",
      "from EinSumConv.tensor import *\n",
      "a=Dummy('a');b=Dummy('b')\n",
      "x=Symbol('x')\n",
      "T=Tensor('T')\n",
      "print T((a,b),x)\n",
      "T((a,b),x)"
     ],
     "language": "python",
     "metadata": {},
     "outputs": [
      {
       "output_type": "stream",
       "stream": "stdout",
       "text": [
        "T((_a, _b), x)\n"
       ]
      },
      {
       "metadata": {},
       "output_type": "pyout",
       "prompt_number": 5,
       "text": [
        "T((_a, _b), x)"
       ]
      }
     ],
     "prompt_number": 5
    },
    {
     "cell_type": "code",
     "collapsed": false,
     "input": [
      "print T(a,b)\n",
      "T(a,b)"
     ],
     "language": "python",
     "metadata": {},
     "outputs": [
      {
       "output_type": "stream",
       "stream": "stdout",
       "text": [
        "T(_a, _b)\n"
       ]
      },
      {
       "metadata": {},
       "output_type": "pyout",
       "prompt_number": 6,
       "text": [
        "T(_a, _b)"
       ]
      }
     ],
     "prompt_number": 6
    },
    {
     "cell_type": "code",
     "collapsed": false,
     "input": [
      "T((a,b),x)*T(a,b)"
     ],
     "language": "python",
     "metadata": {},
     "outputs": [
      {
       "metadata": {},
       "output_type": "pyout",
       "prompt_number": 7,
       "text": [
        "T(_a, _b)*T((_a, _b), x)"
       ]
      }
     ],
     "prompt_number": 7
    },
    {
     "cell_type": "code",
     "collapsed": false,
     "input": [
      "diff(T((a,b),x),x)"
     ],
     "language": "python",
     "metadata": {},
     "outputs": [
      {
       "metadata": {},
       "output_type": "pyout",
       "prompt_number": 8,
       "text": [
        "Derivative(T((_a, _b), x), x)"
       ]
      }
     ],
     "prompt_number": 8
    },
    {
     "cell_type": "code",
     "collapsed": false,
     "input": [],
     "language": "python",
     "metadata": {},
     "outputs": []
    }
   ],
   "metadata": {}
  }
 ]
}